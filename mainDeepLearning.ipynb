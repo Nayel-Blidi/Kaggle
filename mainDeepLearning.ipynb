{
 "cells": [
  {
   "cell_type": "code",
   "execution_count": 1,
   "id": "6f179d9c",
   "metadata": {},
   "outputs": [],
   "source": [
    "import pandas as pd\n",
    "import numpy as np\n",
    "import seaborn as sns\n",
    "\n",
    "import torch\n",
    "import torch.nn as nn\n",
    "import torch.nn.functional as F\n",
    "\n",
    "import sklearn \n",
    "from sklearn.model_selection import train_test_split\n",
    "\n",
    "from tqdm import tqdm\n",
    "\n",
    "import os\n",
    "import sys\n",
    "\n",
    "current_folder_path = os.path.abspath('')"
   ]
  },
  {
   "cell_type": "markdown",
   "id": "0ed3be20",
   "metadata": {},
   "source": [
    "## Loading the labeled dataset\n",
    "The numpy array has the following shapes :\n",
    "- 6556 rows, reprensenting 6556 event occurences\n",
    "- 1445 columns representing :  \n",
    "-- 1 column of step value (initialized for every serie id (ie test subject))  \n",
    "-- 721 columns of **anglez** samples, centered 30 minutes before and after an event  \n",
    "-- 721 columns of **enmo** samples, centered 30 minutes before and after an event  \n",
    "-- 1 column of timestamp, ie the moment of the sample   \n",
    "-- 1 column of **event** which is the **target** of the dataset. (0: *onset*, 1: *wakeup*)  "
   ]
  },
  {
   "cell_type": "code",
   "execution_count": 2,
   "id": "072a1a93",
   "metadata": {},
   "outputs": [
    {
     "name": "stdout",
     "output_type": "stream",
     "text": [
      "(6563, 53)\n"
     ]
    }
   ],
   "source": [
    "offset = 12\n",
    "data = np.load(f\"{current_folder_path}/training_data/data_{offset}.npy\")\n",
    "print(data.shape)\n",
    "\n",
    "#[step, :, :, timestamp, event]\n",
    "step = data[:,0]\n",
    "X = data[:, 1:-2] #1:-2 to load only anglez and \n",
    "Y = data[:, -1]\n"
   ]
  },
  {
   "cell_type": "markdown",
   "id": "83f89df0",
   "metadata": {},
   "source": [
    "## Data splitting\n",
    "The parquet dataset, loaded as an edited npy array, is divided into training and testing datasets"
   ]
  },
  {
   "cell_type": "code",
   "execution_count": 43,
   "id": "d970b529",
   "metadata": {},
   "outputs": [
    {
     "name": "stdout",
     "output_type": "stream",
     "text": [
      "torch.Size([4922, 50]) torch.Size([4922, 1]) torch.Size([1641, 50]) torch.Size([1641, 1])\n"
     ]
    }
   ],
   "source": [
    "X_train, X_test, Y_train, Y_test = train_test_split(X, Y, test_size=0.25, shuffle=True)\n",
    "\n",
    "train_features = torch.from_numpy(X_train).float()\n",
    "train_labels = torch.from_numpy(Y_train).float().unsqueeze(1)\n",
    "test_features = torch.from_numpy(X_test).float()\n",
    "test_labels = torch.from_numpy(Y_test).float().unsqueeze(1)\n",
    "\n",
    "train_features = F.normalize(train_features)\n",
    "test_features = F.normalize(test_features)\n",
    "\n",
    "# train_features = train_features.unsqueeze(1)\n",
    "# test_features = test_features.unsqueeze(1)\n",
    "\n",
    "print(train_features.size(), train_labels.size(), test_features.size(), test_labels.size())"
   ]
  },
  {
   "cell_type": "markdown",
   "id": "77e734e6",
   "metadata": {},
   "source": [
    "## NN architecture"
   ]
  },
  {
   "cell_type": "code",
   "execution_count": 44,
   "id": "68401c0b",
   "metadata": {},
   "outputs": [],
   "source": [
    "class SimpleNN(nn.Module):\n",
    "    def __init__(self, input_size, hidden_size, output_size):\n",
    "        super(SimpleNN, self).__init__()\n",
    "        self.input_size = input_size\n",
    "        self.hidden_size= hidden_size\n",
    "        self.output_size = output_size\n",
    "        \n",
    "        self.flatten = nn.Flatten()\n",
    "        self.relu = nn.ReLU()\n",
    "\n",
    "        self.input_layer = nn.Linear(input_size, hidden_size)\n",
    "        \n",
    "        self.layer1 = nn.Linear(hidden_size, hidden_size//2)\n",
    "        self.layer2 = nn.Linear(hidden_size//2, hidden_size//4)\n",
    "        \n",
    "        self.batchnorm1 = nn.BatchNorm1d(hidden_size//2)\n",
    "        self.batchnorm2 = nn.BatchNorm1d(hidden_size//4)\n",
    "\n",
    "        self.output_layer = nn.Linear(hidden_size//4, output_size)\n",
    "        self.sigmoid = nn.Sigmoid()  \n",
    "        self.dropout = nn.Dropout1d(p=0.1)\n",
    "            \n",
    "    def forward(self, x):\n",
    "        x = self.input_layer(x)\n",
    "        x = self.relu(x)\n",
    "        \n",
    "        x = self.layer1(x)\n",
    "        x = self.relu(x)\n",
    "        x = self.batchnorm1(x)\n",
    "        \n",
    "        x = self.layer2(x)\n",
    "        x = self.relu(x)\n",
    "        x = self.batchnorm2(x)\n",
    "        \n",
    "        x = self.dropout(x)\n",
    "        \n",
    "        x = self.output_layer(x)  \n",
    "        #x = self.relu(x)    \n",
    "        x = self.sigmoid(x)\n",
    "        return x\n",
    "    \n",
    "\n",
    "class SignalCNN(nn.Module):\n",
    "    def __init__(self, input_size, in_channels, num_classes):\n",
    "        super(SignalCNN, self).__init__()\n",
    "        \n",
    "        self.conv1 = nn.Conv1d(in_channels=in_channels, out_channels=32, kernel_size=3)\n",
    "        self.relu1 = nn.ReLU()\n",
    "        self.pool1 = nn.MaxPool1d(kernel_size=2)\n",
    "\n",
    "        self.conv2 = nn.Conv1d(in_channels=32, out_channels=64, kernel_size=3)\n",
    "        self.relu2 = nn.ReLU()\n",
    "        self.pool2 = nn.MaxPool1d(kernel_size=2)\n",
    "\n",
    "        self.fc1 = nn.Linear(176 * 4, 128)\n",
    "        self.relu3 = nn.ReLU()\n",
    "        self.fc2 = nn.Linear(128, num_classes)\n",
    "\n",
    "        self.sigmoid = nn.Sigmoid()\n",
    "\n",
    "    def forward(self, x):\n",
    "        x = self.pool1(self.relu1(self.conv1(x)))\n",
    "        x = self.pool2(self.relu2(self.conv2(x)))\n",
    "\n",
    "        x = x.view(x.size(0), -1)\n",
    "        x = self.relu3(self.fc1(x))\n",
    "        \n",
    "        x = self.fc2(x)\n",
    "        x = self.sigmoid(x)\n",
    "        \n",
    "        return x\n",
    "    \n",
    "\n",
    "class SignalRNN(nn.Module):\n",
    "    def __init__(self, input_size, hidden_size, num_layers, num_classes):\n",
    "        super(SignalRNN, self).__init__()\n",
    "        self.rnn = nn.LSTM(input_size, hidden_size, num_layers, batch_first=True)\n",
    "        self.fc = nn.Linear(hidden_size, num_classes)\n",
    "\n",
    "    def forward(self, x):\n",
    "        # Initialize hidden state with zeros\n",
    "        h0 = torch.zeros(self.num_layers, x.size(0), self.hidden_size)\n",
    "        c0 = torch.zeros(self.num_layers, x.size(0), self.hidden_size)\n",
    "\n",
    "        # Forward propagate LSTM\n",
    "        out, _ = self.rnn(x, (h0, c0))\n",
    "\n",
    "        # Decode the hidden state of the last time step\n",
    "        out = self.fc(out[:, -1, :])\n",
    "        return out\n",
    "\n"
   ]
  },
  {
   "cell_type": "markdown",
   "id": "38d15b21",
   "metadata": {},
   "source": [
    "## Model training"
   ]
  },
  {
   "cell_type": "code",
   "execution_count": 47,
   "id": "49a22942",
   "metadata": {},
   "outputs": [
    {
     "name": "stdout",
     "output_type": "stream",
     "text": [
      "4922 50\n"
     ]
    },
    {
     "name": "stderr",
     "output_type": "stream",
     "text": [
      "  1%|          | 1/100 [00:00<00:12,  7.73it/s]"
     ]
    },
    {
     "name": "stderr",
     "output_type": "stream",
     "text": [
      "100%|██████████| 100/100 [00:04<00:00, 20.78it/s]"
     ]
    },
    {
     "name": "stdout",
     "output_type": "stream",
     "text": [
      "Epoch 100, Loss: 59.543324172496796, Final Loss: 0.5505289435386658\n"
     ]
    },
    {
     "name": "stderr",
     "output_type": "stream",
     "text": [
      "\n"
     ]
    },
    {
     "data": {
      "text/plain": [
       "[<matplotlib.lines.Line2D at 0x20f26f67b90>]"
      ]
     },
     "execution_count": 47,
     "metadata": {},
     "output_type": "execute_result"
    },
    {
     "data": {
      "image/png": "[encoded data removed]",
      "text/plain": [
       "<Figure size 640x480 with 1 Axes>"
      ]
     },
     "metadata": {},
     "output_type": "display_data"
    }
   ],
   "source": [
    "\n",
    "batch, input_size = train_features.size()\n",
    "print(batch, input_size)\n",
    "\n",
    "model = SimpleNN(input_size, hidden_size=64, output_size=1)\n",
    "criterion = nn.BCELoss()\n",
    "\n",
    "# model = SignalCNN(input_size=input_size, in_channels=in_channels, num_classes=1)\n",
    "# # criterion = nn.Softmax()\n",
    "# criterion = nn.BCELoss()\n",
    "\n",
    "# model = SignalRNN(input_size=1, hidden_size=64, num_layers=2, num_classes=2)\n",
    "\n",
    "\n",
    "optimizer = torch.optim.Adam(model.parameters(), lr=0.01)\n",
    "#optimize = torch.optim.SGD(model.parameters(), lr=0.01, momentum=0.5)\n",
    "\n",
    "model.train() \n",
    "running_loss = 0.0\n",
    "\n",
    "losses_list = []\n",
    "# num_epochs = int(input(\"Number of epochs : \")) \n",
    "num_epochs = 100   \n",
    "for epoch in tqdm(range(num_epochs)):\n",
    "    optimizer.zero_grad()\n",
    "    outputs = model(train_features)\n",
    "\n",
    "    #print(outputs.data[0:10])\n",
    "    \n",
    "    loss = criterion(outputs, train_labels)\n",
    "    loss.backward()\n",
    "    optimizer.step()\n",
    "    \n",
    "    running_loss += loss.item()\n",
    "    losses_list.append(loss.item())\n",
    "\n",
    "print(f\"Epoch {epoch+1}, Loss: {running_loss}, Final Loss: {losses_list[-1]}\")\n",
    "#print(np.round(losses_list[::2], 6))\n",
    "\n",
    "import matplotlib.pyplot as plt\n",
    "plt.plot(losses_list)\n"
   ]
  },
  {
   "cell_type": "markdown",
   "id": "34f04eca",
   "metadata": {},
   "source": [
    "## Model testing\n",
    "#### Testing dataset (X_test)"
   ]
  },
  {
   "cell_type": "code",
   "execution_count": 49,
   "id": "9d170cd3",
   "metadata": {},
   "outputs": [
    {
     "name": "stdout",
     "output_type": "stream",
     "text": [
      "tensor([[0.2306, 0.3446, 0.2893, 0.4193, 0.3149, 0.3767, 0.2837, 0.0841, 0.3079,\n",
      "         0.3190]])\n",
      "tensor([[0., 0., 0., 0., 0., 0., 0., 0., 0., 0.]])\n",
      "tensor([[1., 1., 0., 1., 1., 1., 1., 0., 1., 1.]])\n",
      "Accuracy on test set: 51.31%\n"
     ]
    }
   ],
   "source": [
    "\n",
    "model.eval()\n",
    "correct = 0\n",
    "total = 0\n",
    "with torch.no_grad():\n",
    "    outputs = model(test_features) \n",
    "    #print(test_features[0:10])\n",
    "    print(outputs[0:10].T)\n",
    "    #predicted = torch.round(outputs.data)\n",
    "    #_, predicted = torch.max(outputs.data, 1)\n",
    "    predicted = torch.round(outputs.data)\n",
    "    # predicted = np.round(outputs.numpy())\n",
    "    total += test_labels.size(0)\n",
    "    # correct += (predicted.numpy() == test_labels.numpy().T).sum().item()\n",
    "    correct += (predicted == test_labels).sum().item()        \n",
    "    \n",
    "    print(predicted[0:10].T)\n",
    "    print(test_labels[0:10].T)\n",
    "    #print(predicted.numpy()[0:10].T, test_labels.numpy().T[0, 0:10])\n",
    "    #correct += (predicted == test_labels.numpy().T[0]).sum().item()\n",
    "    # print(total, correct)\n",
    "\n",
    "    accuracy = 100 * correct / total\n",
    "    print(f\"Accuracy on test set: {accuracy:.2f}%\")"
   ]
  },
  {
   "cell_type": "markdown",
   "id": "606104c1",
   "metadata": {},
   "source": [
    "## Model application\n",
    "#### Data visualization"
   ]
  },
  {
   "cell_type": "code",
   "execution_count": 54,
   "id": "88e38f97",
   "metadata": {},
   "outputs": [
    {
     "data": {
      "image/png": "[encoded data removed]",
      "text/plain": [
       "<Figure size 640x480 with 3 Axes>"
      ]
     },
     "metadata": {},
     "output_type": "display_data"
    },
    {
     "data": {
      "image/png": "[encoded data removed]",
      "text/plain": [
       "<Figure size 640x480 with 3 Axes>"
      ]
     },
     "metadata": {},
     "output_type": "display_data"
    }
   ],
   "source": [
    "data = pd.read_parquet(f\"{current_folder_path}/test_series.parquet\")\n",
    "\n",
    "plt.subplots(3, 1)\n",
    "plt.suptitle(\"anglez\")\n",
    "for k in range(3):\n",
    "    plt.subplot(3, 1, k+1)\n",
    "    plt.plot(data[\"anglez\"][k*150:(k+1)*150])\n",
    "\n",
    "plt.subplots(3, 1)\n",
    "plt.suptitle(\"enmo\")\n",
    "for k in range(3):\n",
    "    plt.subplot(3, 1, k+1)\n",
    "    plt.plot(data[\"enmo\"][k*150:(k+1)*150])"
   ]
  },
  {
   "cell_type": "markdown",
   "id": "1271629c",
   "metadata": {},
   "source": [
    "#### Submission dataset (X_sub)"
   ]
  },
  {
   "cell_type": "code",
   "execution_count": 80,
   "id": "69643226",
   "metadata": {},
   "outputs": [
    {
     "name": "stdout",
     "output_type": "stream",
     "text": [
      "(3, 450)\n"
     ]
    },
    {
     "name": "stderr",
     "output_type": "stream",
     "text": [
      "100%|██████████| 126/126 [00:00<00:00, 359.97it/s]\n"
     ]
    },
    {
     "data": {
      "text/html": [
       "<div>\n",
       "<style scoped>\n",
       "    .dataframe tbody tr th:only-of-type {\n",
       "        vertical-align: middle;\n",
       "    }\n",
       "\n",
       "    .dataframe tbody tr th {\n",
       "        vertical-align: top;\n",
       "    }\n",
       "\n",
       "    .dataframe thead th {\n",
       "        text-align: right;\n",
       "    }\n",
       "</style>\n",
       "<table border=\"1\" class=\"dataframe\">\n",
       "  <thead>\n",
       "    <tr style=\"text-align: right;\">\n",
       "      <th></th>\n",
       "      <th>row_id</th>\n",
       "      <th>serie_id</th>\n",
       "      <th>step</th>\n",
       "      <th>event</th>\n",
       "      <th>score</th>\n",
       "    </tr>\n",
       "  </thead>\n",
       "  <tbody>\n",
       "    <tr>\n",
       "      <th>0</th>\n",
       "      <td>0.0</td>\n",
       "      <td>038441c925bb</td>\n",
       "      <td>26.0</td>\n",
       "      <td>0.0</td>\n",
       "      <td>0.9591593</td>\n",
       "    </tr>\n",
       "    <tr>\n",
       "      <th>1</th>\n",
       "      <td>1.0</td>\n",
       "      <td>03d92c9f6f8a</td>\n",
       "      <td>9.0</td>\n",
       "      <td>0.0</td>\n",
       "      <td>0.9644713</td>\n",
       "    </tr>\n",
       "    <tr>\n",
       "      <th>2</th>\n",
       "      <td>2.0</td>\n",
       "      <td>0402a003dae9</td>\n",
       "      <td>59.0</td>\n",
       "      <td>0.0</td>\n",
       "      <td>0.9827751</td>\n",
       "    </tr>\n",
       "  </tbody>\n",
       "</table>\n",
       "</div>"
      ],
      "text/plain": [
       "  row_id      serie_id  step event      score\n",
       "0    0.0  038441c925bb  26.0   0.0  0.9591593\n",
       "1    1.0  03d92c9f6f8a   9.0   0.0  0.9644713\n",
       "2    2.0  0402a003dae9  59.0   0.0  0.9827751"
      ]
     },
     "metadata": {},
     "output_type": "display_data"
    }
   ],
   "source": [
    "offset = 12\n",
    "\n",
    "data_sub = np.load(f\"{current_folder_path}/submission_col.npy\", allow_pickle=True)\n",
    "\n",
    "\"\"\"\n",
    "Data as DataFrame to to np array, where axis=serie_id, columns=(anglez, enmo)\n",
    "\"\"\"\n",
    "#[series_id, step, anglez, enmo, timestamp]\n",
    "series_id = data_sub[:, 0]\n",
    "step = data_sub[:, 1]\n",
    "anglez = np.array([data_sub[:, 2]])\n",
    "enmo = np.array([data_sub[:, 3]])\n",
    "timestamp = np.array([data_sub[:, 4]])\n",
    "\n",
    "unique_series_id = np.array([np.unique(series_id)])\n",
    "\n",
    "array1 = np.concatenate([anglez[0, 0:150], enmo[0, 0:150], timestamp[0, 0:150]]).reshape(1, 450)\n",
    "array2 = np.concatenate([anglez[0, 150:300], enmo[0, 150:300], timestamp[0, 150:300]]).reshape(1, 450)\n",
    "array3 = np.concatenate([anglez[0, 300:450], enmo[0, 300:450], timestamp[0, 300:450]]).reshape(1, 450)\n",
    "\n",
    "# serie 1 : [anglez (150), enmo (150), timestamp (150)]\n",
    "# serie 2 : [anglez (150), enmo (150), timestamp (150)]\n",
    "# serie 3 : [anglez (150), enmo (150), timestamp (150)]\n",
    "array = np.concatenate([array1, array2, array3], axis=0)\n",
    "print(array.shape)\n",
    "\n",
    "if False:\n",
    "    plt.subplots(3, 1)\n",
    "    plt.suptitle(\"anglez\")\n",
    "    for k in range(3):\n",
    "        plt.subplot(3, 1, k+1)\n",
    "        plt.plot(array[k, 0:150])\n",
    "\n",
    "    plt.subplots(3, 1)\n",
    "    plt.suptitle(\"enmo\")\n",
    "    for k in range(3):\n",
    "        plt.subplot(3, 1, k+1)\n",
    "        plt.plot(array[k, 150:300])\n",
    "\n",
    "\"\"\"\n",
    "Model evaluation, as a 'convolution of learned patterns' over the sample\n",
    "\"\"\"\n",
    "missed_values = []\n",
    "outputs_arrays = np.zeros((3, 1))\n",
    "for conv_step in tqdm(range(offset, 150-offset, 1)):\n",
    "    # print(conv_step)\n",
    "    # X_sub_offset is a [sample_of_anglez, sample_of_enmo] concatenation\n",
    "    X_sub_offset = np.concatenate([array[:, conv_step-offset : conv_step+offset], \n",
    "                                   array[:, 150+conv_step-offset : 150+conv_step+offset]], axis=1)\n",
    "\n",
    "    output_array = np.zeros((3, 1))\n",
    "    for serie_idx in range(3):\n",
    "        # X_sub_idx is the sample of only one of the 3 test subjects\n",
    "        X_sub_idx = X_sub_offset[serie_idx, :]\n",
    "        X_sub_idx = np.array([np.pad(X_sub_idx, 1, mode=\"edge\").astype(np.float32)])\n",
    "\n",
    "        #print(serie_idx, X_sub_idx.shape)\n",
    "\n",
    "        submission_features = torch.from_numpy(X_sub_idx).float()\n",
    "        submission_features = F.normalize(submission_features)\n",
    "        # submission_features = submission_features.unsqueeze(1)\n",
    "\n",
    "        # print(submission_features.size())\n",
    "        if submission_features.size() == torch.Size([1, 50]):\n",
    "            model.eval()\n",
    "            with torch.no_grad():\n",
    "                output_array[serie_idx, 0] = model(submission_features).numpy()\n",
    "\n",
    "    outputs_arrays = np.concatenate([outputs_arrays, output_array], axis=1)\n",
    "    m, n = output_array.shape\n",
    "\n",
    "# print(outputs_arrays[0, 0:10])\n",
    "# print(outputs_arrays[0, -10:])\n",
    "# print(submission_features.shape)\n",
    "# print(outputs_arrays)\n",
    "\n",
    "submission_array = np.zeros((1, 5))\n",
    "for serie_id in range(3):\n",
    "    pred_onset = min(outputs_arrays[serie_id, 1:-1])\n",
    "    step_onset = outputs_arrays[serie_id, :].tolist().index(pred_onset)\n",
    "\n",
    "    pred_wakeup = max(outputs_arrays[serie_id, 1:-1])\n",
    "    step_wakeup = outputs_arrays[serie_id, :].tolist().index(pred_wakeup)\n",
    "\n",
    "    pred_event = max(1-pred_onset, pred_wakeup)\n",
    "    if pred_event == 1-pred_onset:\n",
    "        step_event = outputs_arrays[serie_id, :].tolist().index(pred_onset)\n",
    "        pred_event = round(pred_onset)\n",
    "        score = 1-pred_onset\n",
    "\n",
    "    elif pred_event == pred_wakeup:\n",
    "        step_event = outputs_arrays[serie_id, :].tolist().index(pred_onset)\n",
    "        pred_event = round(pred_wakeup)\n",
    "        score = pred_wakeup\n",
    "\n",
    "    else:\n",
    "        print(\"pred error\")\n",
    "\n",
    "    # print(f\"\\nSERIE {serie_id+1}\")\n",
    "    # print(f\"step onset = {step_onset}, event = {round(pred_onset)}\")\n",
    "    # print(f\"step wakeup = {step_wakeup}, event = {round(pred_wakeup)}\")\n",
    "    # print(f\"step event réel = {step_event}, event reel = {pred_event}\")\n",
    "\n",
    "    submission_array = np.concatenate([submission_array, np.array([[serie_id, \"serie_id\", step_event, pred_event, score]])], axis=0)\n",
    "\n",
    "submission_array = submission_array[1:, :]\n",
    "submission_array[:,0] = submission_array[:,0].astype(np.float32)\n",
    "submission_array[:,1] = submission_array[:,1].astype(str)\n",
    "submission_array[:,2] = submission_array[:,2].astype(np.float32)\n",
    "submission_array[:,3] = submission_array[:,3].astype(np.float32)\n",
    "submission_array[:,4] = submission_array[:,4].astype(np.float32)\n",
    "\n",
    "submission_array[submission_array[:, 3] == \"0\"] = \"onset\"\n",
    "submission_array[submission_array[:, 3] == \"1\"] = \"wakeup\"\n",
    "\n",
    "submission_df = pd.DataFrame(submission_array, columns=[\"row_id\", \"serie_id\", \"step\", \"event\", \"score\"])\n",
    "\n",
    "submission_df[[\"serie_id\"]] = np.array([[\"038441c925bb\", \"03d92c9f6f8a\", \"0402a003dae9\"]]).T\n",
    "display(submission_df.head())\n",
    "\n",
    "submission_df.to_csv(f\"{current_folder_path}/submission.csv\", index=False)\n",
    "\n",
    "\n",
    "# print(max(outputs_arrays[0, :]))\n",
    "# print(X_sub_idx)\n",
    "# print(submission_features)\n",
    "# print(X_sub_idx.shape)\n",
    "\n",
    "\n",
    "        \n",
    "\n",
    "\n",
    "\n",
    "\n"
   ]
  },
  {
   "cell_type": "markdown",
   "id": "a0e8dd67",
   "metadata": {},
   "source": [
    "## Past versions\n",
    "Not working codes, but kept as reference"
   ]
  },
  {
   "cell_type": "markdown",
   "id": "f7e45b1b",
   "metadata": {},
   "source": [
    "import matplotlib.pyplot as plt\n",
    "\n",
    "data_sub = np.load(f\"{current_folder_path}/submission.npy\")\n",
    "print(data_sub.shape)\n",
    "\n",
    "#[step, :, :, timestamp]\n",
    "step_sub = data_sub[:,0]\n",
    "X_sub = data_sub[:, 1:-1]\n",
    "print(X_sub.shape)\n",
    "\n",
    "target_len = 302\n",
    "padding_len = (target_len - X_sub.shape[1])//2\n",
    "X_sub = np.pad(X_sub, padding_len, mode=\"edge\")[padding_len:-padding_len, :]\n",
    "print(X_sub.shape)\n",
    "\n",
    "submission_features = torch.from_numpy(X_sub).float()\n",
    "submission_features = F.normalize(submission_features)\n",
    "print(submission_features.size())"
   ]
  },
  {
   "cell_type": "markdown",
   "id": "02e85c88",
   "metadata": {},
   "source": [
    "#### Submission csv"
   ]
  },
  {
   "cell_type": "markdown",
   "id": "6ec2f0a3",
   "metadata": {},
   "source": [
    "df_sample_submission = pd.read_csv(f\"{current_folder_path}/sample_submission.csv\")\n",
    "columns=np.array([df_sample_submission.columns])\n",
    "col = df_sample_submission.columns\n",
    "\n",
    "arr_sample_submission = df_sample_submission.to_numpy()\n",
    "\n",
    "model.eval()\n",
    "with torch.no_grad():\n",
    "    outputs = model(submission_features).numpy()\n",
    "print(outputs.shape)\n",
    "\n",
    "len_test = outputs.shape[0]//150\n",
    "for serie_id in range(len_test):\n",
    "    answer_array_1 = []\n",
    "    answer_array_2 = []\n",
    "\n",
    "    # Row id \n",
    "    answer_array_1.append(serie_id*2)\n",
    "    answer_array_2.append(serie_id*2+1)\n",
    "\n",
    "    # series_id\n",
    "    answer_array_1.append(df_sample_submission.iloc[serie_id*2, 1])\n",
    "    answer_array_2.append(df_sample_submission.iloc[serie_id*2+1, 1])\n",
    "\n",
    "    print(answer_array_1)\n",
    "\n",
    "    current_serie = outputs.tolist()[serie_id:serie_id+150]\n",
    "    print(np.round(current_serie[0:10], 3).T)\n",
    "    score_onset, step_onset = min(current_serie), current_serie.index(min(current_serie))\n",
    "    score_wakeup, step_wakeup = max(current_serie), current_serie.index(max(current_serie))\n",
    "\n",
    "    print(score_onset, step_onset)\n",
    "    print(score_wakeup, step_wakeup)\n",
    "\n",
    "    # step\n",
    "    answer_array_1.append(step_onset)\n",
    "    answer_array_2.append(step_wakeup)\n",
    "\n",
    "    # event\n",
    "    answer_array_1.append(df_sample_submission.iloc[serie_id*2, 3])\n",
    "    answer_array_2.append(df_sample_submission.iloc[serie_id*2+1, 3])\n",
    "\n",
    "    # score\n",
    "    answer_array_1.append(score_onset[0])\n",
    "    answer_array_2.append(score_wakeup[0])\n",
    "\n",
    "    # saving the submission\n",
    "    arr_sample_submission[serie_id*2,:] = np.array(answer_array_1)\n",
    "    arr_sample_submission[serie_id*2+1,:] = np.array(answer_array_2)\n",
    "\n",
    "arr_sample_submission = np.concatenate([columns, arr_sample_submission], axis=0)\n",
    "header = arr_sample_submission[0,:]\n",
    "# Extract the data (excluding the header)\n",
    "data = arr_sample_submission[1:,:]\n",
    "# Create a Pandas DataFrame with the header\n",
    "df = pd.DataFrame(data, columns=header)\n",
    "#df.to_csv(f\"{current_folder_path}/submission.csv\", index=False)\n",
    "#np.savetxt(f\"{current_folder_path}/anwer_sheet.txt\", arr_sample_submission, delimiter=',')"
   ]
  },
  {
   "cell_type": "code",
   "execution_count": null,
   "id": "eef705e7",
   "metadata": {},
   "outputs": [],
   "source": []
  }
 ],
 "metadata": {
  "kernelspec": {
   "display_name": "Python 3 (ipykernel)",
   "language": "python",
   "name": "python3"
  },
  "language_info": {
   "codemirror_mode": {
    "name": "ipython",
    "version": 3
   },
   "file_extension": ".py",
   "mimetype": "text/x-python",
   "name": "python",
   "nbconvert_exporter": "python",
   "pygments_lexer": "ipython3",
   "version": "3.11.5"
  }
 },
 "nbformat": 4,
 "nbformat_minor": 5
}
