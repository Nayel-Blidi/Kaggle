{
 "cells": [
  {
   "cell_type": "code",
   "execution_count": 1,
   "id": "6f179d9c",
   "metadata": {},
   "outputs": [],
   "source": [
    "import pandas as pd\n",
    "import numpy as np\n",
    "import seaborn as sns\n",
    "\n",
    "import torch\n",
    "import torch.nn as nn\n",
    "import torch.nn.functional as F\n",
    "\n",
    "import sklearn \n",
    "from sklearn.model_selection import train_test_split\n",
    "\n",
    "from tqdm import tqdm\n",
    "\n",
    "import os\n",
    "import sys\n",
    "\n",
    "current_folder_path = os.path.abspath('')"
   ]
  },
  {
   "cell_type": "markdown",
   "id": "0ed3be20",
   "metadata": {},
   "source": [
    "## Loading the training dataset\n",
    "The numpy array has the following shapes :\n",
    "- 6556 rows, reprensenting 6556 event occurences\n",
    "- 1445 columns representing :  \n",
    "-- 1 column of step value (initialized for every serie id (ie test subject))  \n",
    "-- 721 columns of **anglez** samples, centered 30 minutes before and after an event  \n",
    "-- 721 columns of **enmo** samples, centered 30 minutes before and after an event  \n",
    "-- 1 column of timestamp, ie the moment of the sample   \n",
    "-- 1 column of **event** which is the **target** of the dataset. (0: *onset*, 1: *wakeup*)  "
   ]
  },
  {
   "cell_type": "code",
   "execution_count": 9,
   "id": "072a1a93",
   "metadata": {},
   "outputs": [],
   "source": [
    "offset = 75\n",
    "data = np.load(f\"{current_folder_path}/training_data/data_{offset}.npy\")\n",
    "\n",
    "#[step, :, :, timestamp, event]\n",
    "step = data[:,0]\n",
    "X = data[:, 1:-2]\n",
    "Y = data[:, -1]\n"
   ]
  },
  {
   "cell_type": "markdown",
   "id": "83f89df0",
   "metadata": {},
   "source": [
    "## Data splitting"
   ]
  },
  {
   "cell_type": "code",
   "execution_count": 3,
   "id": "d970b529",
   "metadata": {},
   "outputs": [
    {
     "name": "stdout",
     "output_type": "stream",
     "text": [
      "torch.Size([4922, 302]) torch.Size([4922, 1]) torch.Size([1641, 302]) torch.Size([1641, 1])\n"
     ]
    }
   ],
   "source": [
    "X_train, X_test, Y_train, Y_test = train_test_split(X, Y, test_size=0.25)\n",
    "\n",
    "train_features = torch.from_numpy(X_train).float()\n",
    "train_labels = torch.from_numpy(Y_train).float().unsqueeze(1)\n",
    "test_features = torch.from_numpy(X_test).float()\n",
    "test_labels = torch.from_numpy(Y_test).float().unsqueeze(1)\n",
    "\n",
    "train_features = F.normalize(train_features)\n",
    "test_features = F.normalize(test_features)\n",
    "\n",
    "print(train_features.size(), train_labels.size(), test_features.size(), test_labels.size())"
   ]
  },
  {
   "cell_type": "markdown",
   "id": "77e734e6",
   "metadata": {},
   "source": [
    "## NN architecture"
   ]
  },
  {
   "cell_type": "code",
   "execution_count": 4,
   "id": "68401c0b",
   "metadata": {},
   "outputs": [],
   "source": [
    "class SimpleNN(nn.Module):\n",
    "    def __init__(self, input_size, hidden_size, output_size):\n",
    "        super(SimpleNN, self).__init__()\n",
    "        self.input_size = input_size\n",
    "        self.hidden_size= hidden_size\n",
    "        self.output_size = output_size\n",
    "        \n",
    "        self.flatten = nn.Flatten()\n",
    "        self.relu = nn.ReLU()\n",
    "\n",
    "        self.input_layer = nn.Linear(input_size, hidden_size)\n",
    "        \n",
    "        self.layer1 = nn.Linear(hidden_size, hidden_size//2)\n",
    "        self.layer2 = nn.Linear(hidden_size//2, hidden_size//4)\n",
    "        \n",
    "        self.batchnorm1 = nn.BatchNorm1d(hidden_size//2)\n",
    "        self.batchnorm2 = nn.BatchNorm1d(hidden_size//4)\n",
    "\n",
    "        self.output_layer = nn.Linear(hidden_size//4, output_size)\n",
    "        self.sigmoid = nn.Sigmoid()  \n",
    "        self.dropout = nn.Dropout1d(p=0.1)\n",
    "            \n",
    "    def forward(self, x):\n",
    "        x = self.input_layer(x)\n",
    "        x = self.relu(x)\n",
    "        \n",
    "        x = self.layer1(x)\n",
    "        x = self.relu(x)\n",
    "        x = self.batchnorm1(x)\n",
    "        \n",
    "        x = self.layer2(x)\n",
    "        x = self.relu(x)\n",
    "        x = self.batchnorm2(x)\n",
    "        \n",
    "        x = self.dropout(x)\n",
    "        \n",
    "        x = self.output_layer(x)  \n",
    "        #x = self.relu(x)    \n",
    "        x = self.sigmoid(x)\n",
    "        return x        \n",
    "\n"
   ]
  },
  {
   "cell_type": "markdown",
   "id": "38d15b21",
   "metadata": {},
   "source": [
    "## Model training"
   ]
  },
  {
   "cell_type": "code",
   "execution_count": 7,
   "id": "49a22942",
   "metadata": {},
   "outputs": [
    {
     "name": "stdout",
     "output_type": "stream",
     "text": [
      "302\n"
     ]
    },
    {
     "name": "stderr",
     "output_type": "stream",
     "text": [
      "100%|██████████| 100/100 [00:02<00:00, 45.40it/s]"
     ]
    },
    {
     "name": "stdout",
     "output_type": "stream",
     "text": [
      "Epoch 100, Loss: 36.4848018437624\n",
      "[0.692054 0.613406 0.581822 0.56611  0.550366 0.537596 0.527181 0.516066\n",
      " 0.507576 0.49692  0.489183 0.477384 0.468741 0.454749 0.443663 0.434577\n",
      " 0.42724  0.415307 0.405441 0.390693 0.381081 0.374509 0.361014 0.35064\n",
      " 0.341655 0.333528 0.326484 0.318789 0.311143 0.301995 0.29551  0.29655\n",
      " 0.280349 0.283262 0.269291 0.266737 0.262776 0.256771 0.254075 0.246094\n",
      " 0.240596 0.237357 0.233156 0.23564  0.229335 0.225783 0.222448 0.215413\n",
      " 0.217837 0.210995]\n"
     ]
    },
    {
     "name": "stderr",
     "output_type": "stream",
     "text": [
      "\n"
     ]
    }
   ],
   "source": [
    "m, n = train_features.shape\n",
    "input_size = n\n",
    "print(input_size)\n",
    "hidden_size = 64\n",
    "output_size = 1\n",
    "\n",
    "model = SimpleNN(input_size, hidden_size, output_size)\n",
    "criterion = nn.BCELoss()\n",
    "optimizer = torch.optim.Adam(model.parameters(), lr=0.001)\n",
    "#optimize = torch.optim.SGD(model.parameters(), lr=0.01, momentum=0.5)\n",
    "\n",
    "model.train() \n",
    "running_loss = 0.0\n",
    "\n",
    "losses_list = []\n",
    "num_epochs = int(input(\"Number of epochs : \"))    \n",
    "for epoch in tqdm(range(num_epochs)):\n",
    "    optimizer.zero_grad()\n",
    "    outputs = model(train_features)\n",
    "    loss = criterion(outputs, train_labels)\n",
    "    loss.backward()\n",
    "    optimizer.step()\n",
    "    running_loss += loss.item()\n",
    "    losses_list.append(loss.item())\n",
    "\n",
    "print(f\"Epoch {epoch+1}, Loss: {running_loss}\")\n",
    "#print(np.round(losses_list[::2], 6))\n"
   ]
  },
  {
   "cell_type": "markdown",
   "id": "34f04eca",
   "metadata": {},
   "source": [
    "## Model testing"
   ]
  },
  {
   "cell_type": "code",
   "execution_count": 40,
   "id": "9d170cd3",
   "metadata": {},
   "outputs": [
    {
     "name": "stdout",
     "output_type": "stream",
     "text": [
      "tensor([[0.8394],\n",
      "        [0.8583],\n",
      "        [0.0280],\n",
      "        [0.1735],\n",
      "        [0.9717],\n",
      "        [0.1020],\n",
      "        [0.1466],\n",
      "        [0.9406],\n",
      "        [0.9755],\n",
      "        [0.6050]])\n",
      "1641 1504\n",
      "Accuracy on test set: 91.65%\n"
     ]
    }
   ],
   "source": [
    "model.eval()\n",
    "correct = 0\n",
    "total = 0\n",
    "with torch.no_grad():\n",
    "    outputs = model(test_features) \n",
    "    print(outputs[0:10])\n",
    "    #print(outputs[0:10].T)\n",
    "    #predicted = torch.round(outputs.data)\n",
    "    #_, predicted = torch.max(outputs.data, 1)\n",
    "    predicted = torch.round(outputs.data)\n",
    "    # predicted = np.round(outputs.numpy())\n",
    "    total += test_labels.size(0)\n",
    "    # correct += (predicted.numpy() == test_labels.numpy().T).sum().item()\n",
    "    correct += (predicted == test_labels).sum().item()        \n",
    "    \n",
    "    #print(predicted.numpy()[0:10].T, test_labels.numpy().T[0, 0:10])\n",
    "    #correct += (predicted == test_labels.numpy().T[0]).sum().item()\n",
    "    print(total, correct)\n",
    "\n",
    "    accuracy = 100 * correct / total\n",
    "    print(f\"Accuracy on test set: {accuracy:.2f}%\")"
   ]
  },
  {
   "cell_type": "markdown",
   "id": "a0e8dd67",
   "metadata": {},
   "source": [
    "## Submission evaluation\n",
    "#### Submission model eval"
   ]
  },
  {
   "cell_type": "code",
   "execution_count": 56,
   "id": "f7e45b1b",
   "metadata": {},
   "outputs": [
    {
     "name": "stdout",
     "output_type": "stream",
     "text": [
      "(450, 302)\n",
      "(450, 300)\n",
      "(450, 302)\n"
     ]
    },
    {
     "data": {
      "image/png": "[encoded data removed]",
      "text/plain": [
       "<Figure size 640x480 with 6 Axes>"
      ]
     },
     "metadata": {},
     "output_type": "display_data"
    }
   ],
   "source": [
    "import matplotlib.pyplot as plt\n",
    "\n",
    "data_sub = np.load(f\"{current_folder_path}/submission.npy\")\n",
    "print(data_sub.shape)\n",
    "\n",
    "#[step, :, :, timestamp]\n",
    "step_sub = data_sub[:,0]\n",
    "X_sub = data_sub[:, 1:-1]\n",
    "print(X_sub.shape)\n",
    "\n",
    "target_len = 302\n",
    "padding_len = (target_len - X_sub.shape[1])//2\n",
    "X_sub = np.pad(X_sub, padding_len, mode=\"edge\")[padding_len:-padding_len, :]\n",
    "print(X_sub.shape)\n",
    "\n",
    "plt.subplots(2, 3)\n",
    "for k in range(6):\n",
    "    plt.subplot(2, 3, k+1)\n",
    "    plt.plot(X_sub[k*75,:])\n"
   ]
  },
  {
   "cell_type": "code",
   "execution_count": 57,
   "id": "3ced007e",
   "metadata": {},
   "outputs": [
    {
     "name": "stdout",
     "output_type": "stream",
     "text": [
      "torch.Size([450, 302])\n"
     ]
    }
   ],
   "source": [
    "submission_features = torch.from_numpy(X_sub).float()\n",
    "\n",
    "submission_features = F.normalize(submission_features)\n",
    "\n",
    "print(submission_features.size())\n"
   ]
  },
  {
   "cell_type": "code",
   "execution_count": 105,
   "id": "6ec2f0a3",
   "metadata": {},
   "outputs": [
    {
     "name": "stdout",
     "output_type": "stream",
     "text": [
      "(450, 1)\n",
      "[0, '038441c925bb']\n",
      "[[0.053 0.053 0.053 0.053 0.053 0.053 0.053 0.053 0.053 0.053]]\n",
      "[0.052568890154361725] 0\n",
      "[0.052568964660167694] 72\n",
      "[2, '03d92c9f6f8a']\n",
      "[[0.053 0.053 0.053 0.053 0.053 0.053 0.053 0.053 0.053 0.053]]\n",
      "[0.052568890154361725] 0\n",
      "[0.14496803283691406] 149\n",
      "[4, '0402a003dae9']\n",
      "[[0.053 0.053 0.053 0.053 0.053 0.053 0.053 0.053 0.053 0.053]]\n",
      "[0.052568890154361725] 0\n",
      "[0.14496803283691406] 148\n"
     ]
    },
    {
     "data": {
      "image/png": "[encoded data removed]",
      "text/plain": [
       "<Figure size 640x480 with 3 Axes>"
      ]
     },
     "metadata": {},
     "output_type": "display_data"
    }
   ],
   "source": [
    "df_sample_submission = pd.read_csv(f\"{current_folder_path}/sample_submission.csv\")\n",
    "columns=np.array([df_sample_submission.columns])\n",
    "col = df_sample_submission.columns\n",
    "\n",
    "arr_sample_submission = df_sample_submission.to_numpy()\n",
    "\n",
    "model.eval()\n",
    "with torch.no_grad():\n",
    "    outputs = model(submission_features).numpy()\n",
    "\n",
    "print(outputs.shape)\n",
    "plt.subplots(3, 1)\n",
    "len_test = outputs.shape[0]//150\n",
    "for serie_id in range(len_test):\n",
    "    answer_array_1 = []\n",
    "    answer_array_2 = []\n",
    "\n",
    "    # Row id \n",
    "    answer_array_1.append(serie_id*2)\n",
    "    answer_array_2.append(serie_id*2+1)\n",
    "\n",
    "    # series_id\n",
    "    answer_array_1.append(df_sample_submission.iloc[serie_id*2, 1])\n",
    "    answer_array_2.append(df_sample_submission.iloc[serie_id*2+1, 1])\n",
    "\n",
    "    print(answer_array_1)\n",
    "\n",
    "    current_serie = outputs.tolist()[serie_id:serie_id+150]\n",
    "    print(np.round(current_serie[0:10], 3).T)\n",
    "    score_onset, step_onset = min(current_serie), current_serie.index(min(current_serie))\n",
    "    score_wakeup, step_wakeup = max(current_serie), current_serie.index(max(current_serie))\n",
    "\n",
    "    print(score_onset, step_onset)\n",
    "    print(score_wakeup, step_wakeup)\n",
    "\n",
    "    plt.subplot(3, 1, serie_id+1)\n",
    "    plt.plot(current_serie)\n",
    "    plt.title(f\"plot serie_id {serie_id+1}\")\n",
    "\n",
    "    # step\n",
    "    answer_array_1.append(step_onset)\n",
    "    answer_array_2.append(step_wakeup)\n",
    "\n",
    "    # event\n",
    "    answer_array_1.append(df_sample_submission.iloc[serie_id*2, 3])\n",
    "    answer_array_2.append(df_sample_submission.iloc[serie_id*2+1, 3])\n",
    "\n",
    "    # score\n",
    "    answer_array_1.append(score_onset[0])\n",
    "    answer_array_2.append(score_wakeup[0])\n",
    "\n",
    "    # saving the submission\n",
    "    arr_sample_submission[serie_id*2,:] = np.array(answer_array_1)\n",
    "    arr_sample_submission[serie_id*2+1,:] = np.array(answer_array_2)\n",
    "\n",
    "arr_sample_submission = np.concatenate([columns, arr_sample_submission], axis=0)\n",
    "header = arr_sample_submission[0,:]\n",
    "# Extract the data (excluding the header)\n",
    "data = arr_sample_submission[1:,:]\n",
    "# Create a Pandas DataFrame with the header\n",
    "df = pd.DataFrame(data, columns=header)\n",
    "df.to_csv(f\"{current_folder_path}/submission.csv\", index=False)\n",
    "#np.savetxt(f\"{current_folder_path}/anwer_sheet.txt\", arr_sample_submission, delimiter=',')"
   ]
  },
  {
   "cell_type": "markdown",
   "id": "960bb144",
   "metadata": {},
   "source": [
    "#### Submission csv"
   ]
  },
  {
   "cell_type": "code",
   "execution_count": null,
   "id": "eef705e7",
   "metadata": {},
   "outputs": [],
   "source": []
  }
 ],
 "metadata": {
  "kernelspec": {
   "display_name": "Python 3 (ipykernel)",
   "language": "python",
   "name": "python3"
  },
  "language_info": {
   "codemirror_mode": {
    "name": "ipython",
    "version": 3
   },
   "file_extension": ".py",
   "mimetype": "text/x-python",
   "name": "python",
   "nbconvert_exporter": "python",
   "pygments_lexer": "ipython3",
   "version": "3.11.5"
  }
 },
 "nbformat": 4,
 "nbformat_minor": 5
}
